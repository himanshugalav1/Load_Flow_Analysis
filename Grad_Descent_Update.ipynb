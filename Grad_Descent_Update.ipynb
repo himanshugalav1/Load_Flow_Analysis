{
 "cells": [
  {
   "cell_type": "markdown",
   "id": "f7379a2a",
   "metadata": {},
   "source": [
    "# Gradient Descent Constant step size"
   ]
  },
  {
   "cell_type": "code",
   "execution_count": 1,
   "id": "b26ee875",
   "metadata": {},
   "outputs": [],
   "source": [
    "import numpy as np\n",
    "import matplotlib.pyplot as plt\n",
    "import time"
   ]
  },
  {
   "cell_type": "code",
   "execution_count": 15,
   "id": "5bfe21e8",
   "metadata": {},
   "outputs": [],
   "source": [
    "#Defining function to generate Ybus, a voltage distribution for test bench and power crossponding to it \n",
    "#Generating Y buses and a test bench\n",
    "def get_y(n, avg_conn, min_y, max_y):\n",
    "    y_mat = np.zeros((n, n), dtype='complex128')\n",
    "    for i in range(n):\n",
    "        num_connections = min(np.random.poisson(avg_conn), n-1)\n",
    "        connected_buses = np.random.choice([j for j in range(n) if j != i], size=num_connections, replace=False)\n",
    "\n",
    "        y_mat[i, connected_buses] = (\n",
    "            np.random.uniform(min_y, max_y, size=num_connections) -\n",
    "            1j * np.random.uniform(min_y, max_y, size=num_connections)*2\n",
    "        )\n",
    "    y_mat = (y_mat + y_mat.T) / 2\n",
    "    \n",
    "    yy_mat = np.zeros((n, n), dtype='complex128')\n",
    "    for i in range(n):\n",
    "        for j in range(n):\n",
    "            yy_mat[i][i] += y_mat[i][j]\n",
    "            if(i!=j): yy_mat[i][j] = 0-y_mat[i][j]\n",
    "\n",
    "    return yy_mat\n",
    "\n",
    "\n",
    "def get_v(n, mag_high, mag_low, angle_high, angle_low):\n",
    "    mag = np.random.rand(n, 1) * (mag_high - mag_low) + mag_low\n",
    "    angles = np.random.rand(n, 1) * (angle_high - angle_low) + angle_low\n",
    "    angles = np.deg2rad(angles)\n",
    "    v = mag * np.exp(1j * angles)\n",
    "    return v\n",
    "\n",
    "def get_S(y, vr):\n",
    "    S = vr*(np.conj(y)@np.conj(vr))\n",
    "    \n",
    "    return S"
   ]
  },
  {
   "cell_type": "code",
   "execution_count": 16,
   "id": "7599fef9",
   "metadata": {},
   "outputs": [],
   "source": [
    "#Intializing the System with fixed number of buses and intial voltage distributation\n",
    "N=2000\n",
    "\n",
    "n = N+1 #Total number of buses\n",
    "avg_conn = 12 #Average connection\n",
    "min_y, max_y = 5, 10\n",
    "mag_high, mag_low = 1.1, 0.9\n",
    "angle_high, angle_low = 10, 0\n",
    "\n",
    "\n",
    "y = get_y(n, avg_conn, min_y, max_y) #Generating Y bus\n",
    "Ybus = y[1:,1:] #Excluding Reference bus\n",
    "\n",
    "v = get_v(n, mag_high, mag_low, angle_high, angle_low) #Intial voltage distribution\n",
    "v[0] = 1 #Setting Reference bus\n",
    "V = v[1:]\n",
    "\n",
    "s = get_S(y, v) #Power corrosponding to intial distribution "
   ]
  },
  {
   "cell_type": "code",
   "execution_count": 17,
   "id": "5e331977",
   "metadata": {},
   "outputs": [
    {
     "name": "stdout",
     "output_type": "stream",
     "text": [
      "8.07575798034668\n"
     ]
    }
   ],
   "source": [
    "#Intial guess\n",
    "VR = np.ones((1,N),dtype='complex128') #Voltage Row vector\n",
    "VC = np.reshape(VR,(N,1)) #Voltage column vector\n",
    "Sref = get_S(Ybus,V) #Reference Power or Schadule power\n",
    "\n",
    "ss = 0.05 #Step size\n",
    "itr = 10 #Number of iteration\n",
    "Error = [] #Error per iteration\n",
    "\n",
    "\n",
    "t1=time.time()\n",
    "\n",
    "for i in range(itr):\n",
    "\n",
    "    J1 = VR.conj()*Ybus #Jacabian crossponding to voltage conjuctate\n",
    "    J2P = np.reshape(Ybus@VC,(N))\n",
    "    J2  = np.diag(J2P) #Jacabian croosponding to voltage \n",
    "\n",
    "    #power calculation\n",
    "    Jreal = J1 +J2 #Real voltage Jacobian\n",
    "    Jimg = 1j*J1 - 1J*J2 #Imag voltage jacobian\n",
    "    S = get_S(Ybus,VC)    \n",
    "    delS = Sref - S #Power correction\n",
    "    \n",
    "    delR = np.real((delS.T)@Jreal) #Gradient real part of voltage\n",
    "    delI = np.real((delS.T)@Jimg) #Gradient img part of voltage\n",
    "    \n",
    "    delVR = delR/np.linalg.norm(delR) # Increment Real voltage(*)\n",
    "    delVI = delI/np.linalg.norm(delI) #Increment imag voltage\n",
    "    \n",
    "    VR = VR+ss*(delVR+1j*delVI) #Change voltage\n",
    "    VC = np.reshape(VR,(N,1))\n",
    "    \n",
    "    S = get_S(Ybus,VC) #Power crossponding to new voltage\n",
    "    error2 = 100*np.linalg.norm(Sref-S)/np.linalg.norm(Sref) #Error in Power\n",
    "    Error.append(error2)\n",
    "    \n",
    "t2=time.time()\n",
    "print(t2-t1)"
   ]
  },
  {
   "cell_type": "code",
   "execution_count": 18,
   "id": "91bf7d3c",
   "metadata": {},
   "outputs": [
    {
     "data": {
      "text/plain": [
       "[<matplotlib.lines.Line2D at 0x708c6eb3e200>]"
      ]
     },
     "execution_count": 18,
     "metadata": {},
     "output_type": "execute_result"
    },
    {
     "data": {
      "image/png": "[encoded data removed]",
      "text/plain": [
       "<Figure size 640x480 with 1 Axes>"
      ]
     },
     "metadata": {},
     "output_type": "display_data"
    }
   ],
   "source": [
    "plt.plot(Error)"
   ]
  },
  {
   "cell_type": "markdown",
   "id": "e4cbff62",
   "metadata": {},
   "source": [
    "# Next we will vary the step size acoording to Error size"
   ]
  },
  {
   "cell_type": "code",
   "execution_count": 26,
   "id": "3511b9f1",
   "metadata": {},
   "outputs": [
    {
     "name": "stdout",
     "output_type": "stream",
     "text": [
      "99.80551880142454 12\n",
      "63.65965540066687\n",
      "43.38797638610118\n",
      "31.049575718592397\n",
      "23.005689439865023\n",
      "17.49655377670489\n",
      "13.595262501396112\n",
      "10.783588151201956\n",
      "8.855087246879558\n",
      "7.54432678295846\n",
      "6.294955347292502\n"
     ]
    }
   ],
   "source": [
    "#Intial guess\n",
    "VR = np.ones((1,N),dtype='complex128') #Voltage Row vector\n",
    "VC = np.reshape(VR,(N,1)) #Voltage column vector\n",
    "Sref = get_S(Ybus,V) #Reference Power or Schadule power\n",
    "#intial error calucation\n",
    "S = get_S(Ybus,VC) #Power crossponding to new voltage\n",
    "error2 = 100*np.linalg.norm(Sref-S)/np.linalg.norm(Sref) #Error in Power\n",
    "err_slc = 12 #decide the scalling relation between error and step size\n",
    "print(error2,err_slc)\n",
    "\n",
    "ss = (0.1/err_slc)*error2 #Step size\n",
    "itr = 10 #Number of iteration\n",
    "Error = [] #Error per iteration\n",
    "\n",
    "\n",
    "\n",
    "\n",
    "for i in range(itr):\n",
    "\n",
    "    J1 = VR.conj()*Ybus #Jacabian crossponding to voltage conjuctate\n",
    "    J2P = np.reshape(Ybus@VC,(N))\n",
    "    J2  = np.diag(J2P) #Jacabian croosponding to voltage \n",
    "\n",
    "    #power calculation\n",
    "    Jreal = J1 +J2 #Real voltage Jacobian\n",
    "    Jimg = 1j*J1 - 1J*J2 #Imag voltage jacobian\n",
    "    S = get_S(Ybus,VC)    \n",
    "    delS = Sref - S #Power correction\n",
    "    \n",
    "    delR = np.real((delS.T)@Jreal) #Gradient real part of voltage\n",
    "    delI = np.real((delS.T)@Jimg) #Gradient img part of voltage\n",
    "    \n",
    "    delVR = delR/np.linalg.norm(delR) # Increment Real voltage(*)\n",
    "    delVI = delI/np.linalg.norm(delI) #Increment imag voltage\n",
    "  \n",
    "    VR = VR+ss*(delVR+1j*delVI) #Change voltage\n",
    "    VC = np.reshape(VR,(N,1))\n",
    "\n",
    "    S = get_S(Ybus,VC) #Power crossponding to new voltage\n",
    "    error2 = 100*np.linalg.norm(Sref-S)/np.linalg.norm(Sref) #Error in Power\n",
    "    print(error2)\n",
    "    ss = (0.1/err_slc)*error2\n",
    "    Error.append(error2)"
   ]
  },
  {
   "cell_type": "code",
   "execution_count": 20,
   "id": "15b8bf82",
   "metadata": {},
   "outputs": [
    {
     "name": "stdout",
     "output_type": "stream",
     "text": [
      "[59.56812897802102, 48.66210361325887, 41.09278586543951, 37.44130593892862, 33.97232175257582, 31.309741428299102, 28.992543949347972, 27.048650804465222, 25.001653858312434, 23.743209560937704]\n"
     ]
    }
   ],
   "source": [
    "print(Error)"
   ]
  },
  {
   "cell_type": "code",
   "execution_count": 221,
   "id": "11190388",
   "metadata": {},
   "outputs": [
    {
     "name": "stdout",
     "output_type": "stream",
     "text": [
      "[49.26665392576197, 29.91011637726733, 19.64744457576277, 15.939299724202424, 11.963853196873266]\n"
     ]
    }
   ],
   "source": [
    "print(Error)"
   ]
  },
  {
   "cell_type": "code",
   "execution_count": 222,
   "id": "644c3c0d",
   "metadata": {},
   "outputs": [],
   "source": [
    "def Rantree(VR,scale):\n",
    "    tt=20\n",
    "    AA = scale*(0.75+0.5*np.random.rand(tt))\n",
    "    RR = np.zeros(tt)\n",
    "    for i in range(tt):\n",
    "        ss=AA[i]\n",
    "        VR = VR+ss*(delVR+1j*delVI) #Change voltage\n",
    "        VC = np.reshape(VR,(N,1))\n",
    "        S = get_S(Ybus,VC)\n",
    "        RR[i] = 100*np.linalg.norm(Sref-S)/np.linalg.norm(Sref) #Error in Power\n",
    "    \n",
    "    index = np.argmin(RR)\n",
    "    return AA[index]"
   ]
  },
  {
   "cell_type": "code",
   "execution_count": 73,
   "id": "b2c77e1b",
   "metadata": {},
   "outputs": [],
   "source": [
    "def Gridtree(VR,scale,j):\n",
    "    tt=20\n",
    "    AA = np.linspace(0,scale,tt)\n",
    "    #print(AA)\n",
    "    RR = np.zeros(tt)\n",
    "    for i in range(tt):\n",
    "        xx=AA[i]\n",
    "        VR = VR+xx*(delVR+1j*delVI) #Change voltage\n",
    "        VC = np.reshape(VR,(N,1))\n",
    "        S = get_S(Ybus,VC)\n",
    "        RR[i] = 100*np.linalg.norm(Sref-S)/np.linalg.norm(Sref) #Error in Power\n",
    "    print(RR)\n",
    "    GG[j]=RR"
   ]
  },
  {
   "cell_type": "code",
   "execution_count": 74,
   "id": "918ab5b0",
   "metadata": {},
   "outputs": [
    {
     "name": "stdout",
     "output_type": "stream",
     "text": [
      "99.80551880142454 8\n",
      "[ 99.8055188   96.75266908  90.71650165  81.87552409  70.6408692\n",
      "  58.02805546  46.78714572  43.51660753  54.93217812  78.8468621\n",
      " 110.90536755 149.2427416  193.40003815 243.51596512 300.0370716\n",
      " 363.61463172 435.06406851 515.3461909  605.55604369 706.91416657]\n",
      "49.877961341709764\n",
      "[ 49.87796134  48.65191078  46.23483003  42.71161957  38.25815212\n",
      "  33.24241994  28.46341617  25.56831534  26.90959019  33.53107896\n",
      "  44.42478817  58.39003435  74.77163476  93.28495159 113.83357221\n",
      " 136.42103111 161.11200506 188.0150972  217.2750523  249.0692154 ]\n",
      "29.866563288697048\n",
      "[ 29.86656329  29.23127436  27.99530454  26.24280571  24.14551228\n",
      "  22.04050916  20.55166284  20.63238946  23.19812541  28.53487767\n",
      "  36.3886413   46.45918056  58.60425627  72.82813806  89.23658951\n",
      " 108.00568512 129.36402491 153.58268552 180.96920019 211.86362091]\n",
      "20.901922771412774\n",
      "[ 20.90192277  20.43238624  19.55688306  18.41597165  17.25380314\n",
      "  16.44438631  16.46097743  17.71119277  20.33330174  24.20938467\n",
      "  29.15567492  35.06111407  41.93050054  49.88762614  59.16939919\n",
      "  70.11645254  83.15895108  98.79769195 117.58337993 140.09815073]\n",
      "16.33792189258394\n",
      "[ 16.33792189  15.98120654  15.30246082  14.38916384  13.42532942\n",
      "  12.76434198  12.97135175  14.6528421   18.11241774  23.3254091\n",
      "  30.20040809  38.72459775  48.97471555  61.0954412   75.28134089\n",
      "  91.76572357 110.81403994 132.7198389  157.80214813 186.40368279]\n",
      "12.772486834915322\n",
      "[12.77248683 12.51279701 12.03487082 11.42984947 10.85308078 10.53249651\n",
      " 10.73567306 11.66781121 13.37456125 15.7631654  18.69695114 22.05942479\n",
      " 25.77409157 29.80654147 34.16454358 38.90010441 44.1128934  49.95315072\n",
      " 56.62200747 64.3676601 ]\n",
      "10.599986419095538\n",
      "[10.59998642 10.40048222 10.02372222  9.52311942  9.00318675  8.64892582\n",
      "  8.73869985  9.57587614 11.34457756 14.06269253 17.67665182 22.14718985\n",
      " 27.47305722 33.68678525 40.84643494 49.029438   58.32870588 68.85023838\n",
      " 80.71161795 94.04101526]\n",
      "8.643047923828375\n",
      "[ 8.64304792  8.49778992  8.22868776  7.88250321  7.53846708  7.31407433\n",
      "  7.35610391  7.80039856  8.71599538 10.0881106  11.8528836  13.93827323\n",
      " 16.28377373 18.84453569 21.59027023 24.50381976 27.58067795 30.82947904\n",
      " 34.27316554 37.95048677]\n",
      "7.3049937367239455\n",
      "[ 7.30499374  7.19115619  6.97679948  6.69254323  6.3947029   6.17680128\n",
      "  6.17486909  6.54465212  7.40400527  8.79221215 10.69093694 13.06847132\n",
      " 15.90416542 19.193392   22.94531178 27.1797201  31.92462481 37.21463545\n",
      " 43.08993237 49.59560457]\n",
      "6.142586594289129\n",
      "[ 6.14258659  6.05660923  5.89624864  5.68659628  5.46974829  5.30823674\n",
      "  5.28326076  5.47971237  5.95838687  6.73589253  7.79081497  9.08503023\n",
      " 10.58011721 12.24386729 14.05111818 15.98280816 18.02494633 20.16796239\n",
      " 22.40646214 24.73930823]\n",
      "5.27105322643561\n",
      "[ 5.27105323  5.2031061   5.07492285  4.90370376  4.71976421  4.5714056\n",
      "  4.52778699  4.67208429  5.07909606  5.79002148  6.80870745  8.11901664\n",
      "  9.70250846 11.54658586 13.64593038 16.00150502 18.61920377 21.50876043\n",
      " 24.6829827  28.15724027]\n"
     ]
    },
    {
     "ename": "IndexError",
     "evalue": "index 10 is out of bounds for axis 0 with size 10",
     "output_type": "error",
     "traceback": [
      "\u001b[0;31m---------------------------------------------------------------------------\u001b[0m",
      "\u001b[0;31mIndexError\u001b[0m                                Traceback (most recent call last)",
      "Cell \u001b[0;32mIn[74], line 35\u001b[0m\n\u001b[1;32m     33\u001b[0m delVR \u001b[38;5;241m=\u001b[39m delR\u001b[38;5;241m/\u001b[39mnp\u001b[38;5;241m.\u001b[39mlinalg\u001b[38;5;241m.\u001b[39mnorm(delR) \u001b[38;5;66;03m# Increment Real voltage(*)\u001b[39;00m\n\u001b[1;32m     34\u001b[0m delVI \u001b[38;5;241m=\u001b[39m delI\u001b[38;5;241m/\u001b[39mnp\u001b[38;5;241m.\u001b[39mlinalg\u001b[38;5;241m.\u001b[39mnorm(delI) \u001b[38;5;66;03m#Increment imag voltage\u001b[39;00m\n\u001b[0;32m---> 35\u001b[0m \u001b[43mGridtree\u001b[49m\u001b[43m(\u001b[49m\u001b[43mVR\u001b[49m\u001b[43m,\u001b[49m\u001b[43mss\u001b[49m\u001b[43m,\u001b[49m\u001b[43mi\u001b[49m\u001b[43m)\u001b[49m\n\u001b[1;32m     36\u001b[0m VR \u001b[38;5;241m=\u001b[39m VR\u001b[38;5;241m+\u001b[39mss\u001b[38;5;241m*\u001b[39m(delVR\u001b[38;5;241m+\u001b[39m\u001b[38;5;241m1\u001b[39mj\u001b[38;5;241m*\u001b[39mdelVI) \u001b[38;5;66;03m#Change voltage\u001b[39;00m\n\u001b[1;32m     37\u001b[0m VC \u001b[38;5;241m=\u001b[39m np\u001b[38;5;241m.\u001b[39mreshape(VR,(N,\u001b[38;5;241m1\u001b[39m))\n",
      "Cell \u001b[0;32mIn[73], line 13\u001b[0m, in \u001b[0;36mGridtree\u001b[0;34m(VR, scale, j)\u001b[0m\n\u001b[1;32m     11\u001b[0m     RR[i] \u001b[38;5;241m=\u001b[39m \u001b[38;5;241m100\u001b[39m\u001b[38;5;241m*\u001b[39mnp\u001b[38;5;241m.\u001b[39mlinalg\u001b[38;5;241m.\u001b[39mnorm(Sref\u001b[38;5;241m-\u001b[39mS)\u001b[38;5;241m/\u001b[39mnp\u001b[38;5;241m.\u001b[39mlinalg\u001b[38;5;241m.\u001b[39mnorm(Sref) \u001b[38;5;66;03m#Error in Power\u001b[39;00m\n\u001b[1;32m     12\u001b[0m \u001b[38;5;28mprint\u001b[39m(RR)\n\u001b[0;32m---> 13\u001b[0m \u001b[43mGG\u001b[49m\u001b[43m[\u001b[49m\u001b[43mj\u001b[49m\u001b[43m]\u001b[49m\u001b[38;5;241m=\u001b[39mRR\n",
      "\u001b[0;31mIndexError\u001b[0m: index 10 is out of bounds for axis 0 with size 10"
     ]
    }
   ],
   "source": [
    "#Intial guess\n",
    "VR = np.ones((1,N),dtype='complex128') #Voltage Row vector\n",
    "VC = np.reshape(VR,(N,1)) #Voltage column vector\n",
    "Sref = get_S(Ybus,V) #Reference Power or Schadule power\n",
    "#intial error calucation\n",
    "S = get_S(Ybus,VC) #Power crossponding to new voltage\n",
    "error2 = 100*np.linalg.norm(Sref-S)/np.linalg.norm(Sref) #Error in Power\n",
    "err_slc = 8 #decide the scalling relation between error and step size\n",
    "print(error2,err_slc)\n",
    "\n",
    "ss = (0.1/err_slc)*error2 #Step size\n",
    "itr = 20 #Number of iteration\n",
    "Error = [] #Error per iteration\n",
    "GG= np.zeros((10,20))\n",
    "XX=0*VR\n",
    "YY=0*VR\n",
    "\n",
    "t1=time.time()\n",
    "\n",
    "for i in range(itr):\n",
    "\n",
    "    J1 = VR.conj()*Ybus #Jacabian crossponding to voltage conjuctate\n",
    "    J2P = np.reshape(Ybus@VC,(N))\n",
    "    J2  = np.diag(J2P) #Jacabian croosponding to voltage \n",
    "\n",
    "    #power calculation\n",
    "    Jreal = J1 +J2 #Real voltage Jacobian\n",
    "    Jimg = 1j*J1 - 1J*J2 #Imag voltage jacobian\n",
    "    S = get_S(Ybus,VC)    \n",
    "    delS = Sref - S #Power correction\n",
    "    delR = np.real((delS.T)@Jreal) #Gradient real part of voltage\n",
    "    delI = np.real((delS.T)@Jimg) #Gradient img part of voltage\n",
    "    delVR = delR/np.linalg.norm(delR) # Increment Real voltage(*)\n",
    "    delVI = delI/np.linalg.norm(delI) #Increment imag voltage\n",
    "    Gridtree(VR,ss,i)\n",
    "    VR = VR+ss*(delVR+1j*delVI) #Change voltage\n",
    "    VC = np.reshape(VR,(N,1))\n",
    "\n",
    "    S = get_S(Ybus,VC) #Power crossponding to new voltage\n",
    "    error2 = 100*np.linalg.norm(Sref-S)/np.linalg.norm(Sref) #Error in Power\n",
    "    #print(\"errror\")\n",
    "    print(error2)\n",
    "    #print(ss/error2)\n",
    "    ss = (0.1/(err_slc*((1.05)**i)))*((error2/100)**1)*100\n",
    "    Error.append(error2)\n",
    "\n",
    "t2=time.time()\n",
    "print(t2-t1)"
   ]
  },
  {
   "cell_type": "code",
   "execution_count": 68,
   "id": "f099538d",
   "metadata": {},
   "outputs": [
    {
     "name": "stdout",
     "output_type": "stream",
     "text": [
      "[49.877961341709764, 29.866563288697048, 20.901922771412774, 16.33792189258394, 12.772486834915322, 10.599986419095538, 8.643047923828375, 7.3049937367239455, 6.142586594289129, 5.27105322643561, 4.525293157566552, 3.9339691470022373, 3.4305324822310252, 3.017340053848214, 2.6654105181837076, 2.370509015580937, 2.1186891414641775, 1.9051253411076043, 1.7221890442524599, 1.5658765025531594]\n"
     ]
    }
   ],
   "source": [
    "print(Error)"
   ]
  },
  {
   "cell_type": "code",
   "execution_count": null,
   "id": "1113b30e",
   "metadata": {},
   "outputs": [],
   "source": []
  }
 ],
 "metadata": {
  "kernelspec": {
   "display_name": "Python 3 (ipykernel)",
   "language": "python",
   "name": "python3"
  },
  "language_info": {
   "codemirror_mode": {
    "name": "ipython",
    "version": 3
   },
   "file_extension": ".py",
   "mimetype": "text/x-python",
   "name": "python",
   "nbconvert_exporter": "python",
   "pygments_lexer": "ipython3",
   "version": "3.10.12"
  }
 },
 "nbformat": 4,
 "nbformat_minor": 5
}
