{
 "cells": [
  {
   "cell_type": "code",
   "execution_count": 61,
   "id": "9631c4ab",
   "metadata": {},
   "outputs": [],
   "source": [
    "import numpy as np\n",
    "import matplotlib.pyplot as plt"
   ]
  },
  {
   "cell_type": "code",
   "execution_count": 51,
   "id": "e8a76b3d",
   "metadata": {},
   "outputs": [],
   "source": [
    "#We will have V both as row and column vector, here is our test sample\n",
    "VR = np.array([1,2,3])\n",
    "VC = np.reshape(VR,(3,1))\n",
    "Y = np.array([[1,2,3],[4,5,6],[7,8,9]])\n",
    "\n",
    "J1 = VR.conj()*Y\n",
    "#delS = (Sref-S)"
   ]
  },
  {
   "cell_type": "code",
   "execution_count": 52,
   "id": "3be4cb39",
   "metadata": {},
   "outputs": [
    {
     "data": {
      "text/plain": [
       "array([[ 14],\n",
       "       [ 64],\n",
       "       [150]])"
      ]
     },
     "execution_count": 52,
     "metadata": {},
     "output_type": "execute_result"
    }
   ],
   "source": [
    "get_S(Y,VC)"
   ]
  },
  {
   "cell_type": "code",
   "execution_count": 11,
   "id": "368895ee",
   "metadata": {},
   "outputs": [
    {
     "data": {
      "text/plain": [
       "array([[ 1,  4,  9],\n",
       "       [ 4, 10, 18],\n",
       "       [ 7, 16, 27]])"
      ]
     },
     "execution_count": 11,
     "metadata": {},
     "output_type": "execute_result"
    }
   ],
   "source": [
    "J1"
   ]
  },
  {
   "cell_type": "code",
   "execution_count": 17,
   "id": "962295d9",
   "metadata": {},
   "outputs": [],
   "source": [
    "J2P = np.reshape(Y@VC,(3))\n",
    "J2  = np.diag(J2P)"
   ]
  },
  {
   "cell_type": "code",
   "execution_count": 22,
   "id": "6d45ff2f",
   "metadata": {},
   "outputs": [],
   "source": [
    "Jreal = J1 +J2\n",
    "Jimg = 1j*J1 - 1J*J2"
   ]
  },
  {
   "cell_type": "code",
   "execution_count": 23,
   "id": "793a5d32",
   "metadata": {},
   "outputs": [],
   "source": [
    "delS = np.array([1,2,3])\n",
    "delVr = np.real(delS@Jreal)"
   ]
  },
  {
   "cell_type": "code",
   "execution_count": 25,
   "id": "a66caa9d",
   "metadata": {},
   "outputs": [
    {
     "name": "stdout",
     "output_type": "stream",
     "text": [
      "[[15  4  9]\n",
      " [ 4 42 18]\n",
      " [ 7 16 77]]\n",
      "Vr\n",
      "[ 44 136 276]\n"
     ]
    }
   ],
   "source": [
    "print(Jreal)\n",
    "print(\"Vr\")\n",
    "print(delVr)"
   ]
  },
  {
   "cell_type": "markdown",
   "id": "eae045f1",
   "metadata": {},
   "source": [
    "# Gradient Descent Approach to Load flow analysis"
   ]
  },
  {
   "cell_type": "code",
   "execution_count": 167,
   "id": "8842779a",
   "metadata": {},
   "outputs": [],
   "source": [
    "#Generating Y buses and a test bench\n",
    "def get_y(n, avg_conn, min_y, max_y):\n",
    "    y_mat = np.zeros((n, n), dtype='complex128')\n",
    "    for i in range(n):\n",
    "        num_connections = min(np.random.poisson(avg_conn), n-1)\n",
    "        connected_buses = np.random.choice([j for j in range(n) if j != i], size=num_connections, replace=False)\n",
    "\n",
    "        y_mat[i, connected_buses] = (\n",
    "            np.random.uniform(min_y, max_y, size=num_connections) -\n",
    "            1j * np.random.uniform(min_y, max_y, size=num_connections)*2\n",
    "        )\n",
    "    y_mat = (y_mat + y_mat.T) / 2\n",
    "    \n",
    "    yy_mat = np.zeros((n, n), dtype='complex128')\n",
    "    for i in range(n):\n",
    "        for j in range(n):\n",
    "            yy_mat[i][i] += y_mat[i][j]\n",
    "            if(i!=j): yy_mat[i][j] = 0-y_mat[i][j]\n",
    "\n",
    "    return yy_mat\n",
    "\n",
    "\n",
    "def get_v(n, mag_high, mag_low, angle_high, angle_low):\n",
    "    mag = np.random.rand(n, 1) * (mag_high - mag_low) + mag_low\n",
    "    angles = np.random.rand(n, 1) * (angle_high - angle_low) + angle_low\n",
    "    angles = np.deg2rad(angles)\n",
    "    v = mag * np.exp(1j * angles)\n",
    "    return v\n",
    "\n",
    "def get_S(y, vr):\n",
    "    S = vr*(np.conj(y)@np.conj(vr))\n",
    "    \n",
    "    return S\n",
    "\n"
   ]
  },
  {
   "cell_type": "code",
   "execution_count": 168,
   "id": "0a3c2831",
   "metadata": {},
   "outputs": [],
   "source": [
    "N=20\n",
    "\n",
    "#+1 for reference bus\n",
    "n = N+1\n",
    "avg_conn = 10\n",
    "min_y, max_y = 5, 10\n",
    "mag_high, mag_low = 1.05, 0.95\n",
    "angle_high, angle_low = 10, 0\n",
    "\n",
    "y = get_y(n, avg_conn, min_y, max_y)\n",
    "Ybus = y[1:,1:] #Excluding Reference bus\n",
    "#print(y)\n",
    "v = get_v(n, mag_high, mag_low, angle_high, angle_low)\n",
    "v[0] = 1 #Setting Reference bus\n",
    "V = v[1:]\n",
    "#print(v)\n",
    "s = get_S(y, v)\n",
    "#print(p)"
   ]
  },
  {
   "cell_type": "code",
   "execution_count": 166,
   "id": "74ebc264",
   "metadata": {},
   "outputs": [],
   "source": [
    "#We will have V both as row and column vector, here is our test sample\n",
    "VR = np.ones((1,N),dtype='complex128')\n",
    "VC = np.reshape(VR,(N,1))\n",
    "S = get_S(Ybus,VC)"
   ]
  },
  {
   "cell_type": "code",
   "execution_count": 56,
   "id": "bb3831d1",
   "metadata": {},
   "outputs": [],
   "source": [
    "#Jacobian calcuation\n",
    "J1 = VR.conj()*Ybus\n",
    "J2P = np.reshape(Ybus@VC,(N))\n",
    "J2  = np.diag(J2P)\n",
    "\n",
    "#power calculation\n",
    "S = get_S(Ybus,VC)\n",
    "error1 = np.linalg.norm(Sref-S)\n",
    "Jreal = J1 +J2\n",
    "Jimg = 1j*J1 - 1J*J2\n",
    "delS = Sref - S"
   ]
  },
  {
   "cell_type": "code",
   "execution_count": 57,
   "id": "1b5cf951",
   "metadata": {},
   "outputs": [
    {
     "name": "stdout",
     "output_type": "stream",
     "text": [
      "28.082144173006256\n"
     ]
    }
   ],
   "source": [
    "print(error1)"
   ]
  },
  {
   "cell_type": "code",
   "execution_count": 58,
   "id": "1075050d",
   "metadata": {},
   "outputs": [],
   "source": [
    "delR = np.real((delS.T)@Jreal)\n",
    "delI = np.real((delS.T)@Jimg)"
   ]
  },
  {
   "cell_type": "code",
   "execution_count": 59,
   "id": "7ed93ef7",
   "metadata": {},
   "outputs": [
    {
     "name": "stdout",
     "output_type": "stream",
     "text": [
      "26.488327814692926\n"
     ]
    }
   ],
   "source": [
    "delVR = delR/np.linalg.norm(delR)\n",
    "delVI = delI/np.linalg.norm(delI)\n",
    "\n",
    "VR = VR+0.1*(delVR+1j*delVI)\n",
    "VC = np.reshape(VR,(N,1))\n",
    "S = get_S(Ybus,VC)\n",
    "error2 = np.linalg.norm(Sref-S)\n",
    "print(error2)"
   ]
  },
  {
   "cell_type": "code",
   "execution_count": 173,
   "id": "44914c98",
   "metadata": {},
   "outputs": [
    {
     "name": "stdout",
     "output_type": "stream",
     "text": [
      "[[1.+0.j]\n",
      " [1.+0.j]\n",
      " [1.+0.j]\n",
      " [1.+0.j]\n",
      " [1.+0.j]\n",
      " [1.+0.j]\n",
      " [1.+0.j]\n",
      " [1.+0.j]\n",
      " [1.+0.j]\n",
      " [1.+0.j]\n",
      " [1.+0.j]\n",
      " [1.+0.j]\n",
      " [1.+0.j]\n",
      " [1.+0.j]\n",
      " [1.+0.j]\n",
      " [1.+0.j]\n",
      " [1.+0.j]\n",
      " [1.+0.j]\n",
      " [1.+0.j]\n",
      " [1.+0.j]]\n",
      "[[1.        +0.j        ]\n",
      " [1.02709717+0.03399429j]\n",
      " [0.96667048+0.07611252j]\n",
      " [0.99869099+0.06624394j]\n",
      " [0.96498755+0.06143811j]\n",
      " [0.95022031+0.12063786j]\n",
      " [1.0195172 +0.02643822j]\n",
      " [1.01398686+0.03938589j]\n",
      " [1.04020046+0.01775677j]\n",
      " [0.96086195+0.0709465j ]\n",
      " [1.04084418+0.01846765j]\n",
      " [1.03508382+0.11113149j]\n",
      " [0.98821862+0.17093305j]\n",
      " [1.04212192+0.10465868j]\n",
      " [0.95920807+0.09353849j]\n",
      " [1.03848474+0.00833761j]\n",
      " [0.97963038+0.11637447j]\n",
      " [0.99966464+0.03993995j]\n",
      " [1.03509778+0.06704811j]\n",
      " [0.96770841+0.05091884j]\n",
      " [0.95638499+0.05021942j]]\n"
     ]
    }
   ],
   "source": [
    "#Intial guess\n",
    "VR = np.ones((1,N),dtype='complex128')\n",
    "#VR = get_v(10, mag_high, mag_low, angle_high, angle_low)[:,0]\n",
    "VC = np.reshape(VR,(N,1))\n",
    "#VC=V\n",
    "#VR = np.reshape(VC,(1,N))\n",
    "print(VC)\n",
    "print(v)\n",
    "Error = []\n",
    "itr = 100\n",
    "Sref = get_S(Ybus,V)\n",
    "\n",
    "for i in range(itr):\n",
    "    #Jacobian calcuation\n",
    "    S = get_S(Ybus,VC)\n",
    "    error2 = 100*np.linalg.norm(Sref-S)/np.linalg.norm(Sref)\n",
    "    J1 = VR.conj()*Ybus\n",
    "    J2P = np.reshape(Ybus@VC,(N))\n",
    "    J2  = np.diag(J2P)\n",
    "\n",
    "    #power calculation\n",
    "    S = get_S(Ybus,VC)\n",
    "    error1 = np.linalg.norm(Sref-S)\n",
    "    Jreal = J1 +J2\n",
    "    Jimg = 1j*J1 - 1J*J2\n",
    "    delS = Sref - S\n",
    "    delR = np.real((delS.T)@Jreal)\n",
    "    delI = np.real((delS.T)@Jimg)\n",
    "    delVR = delR/np.linalg.norm(delR)\n",
    "    delVI = delI/np.linalg.norm(delI)\n",
    "    VR = VR+0.005*(delVR+1j*delVI)\n",
    "    VC = np.reshape(VR,(N,1))\n",
    "    S = get_S(Ybus,VC)\n",
    "\n",
    "    Error.append(error2)"
   ]
  },
  {
   "cell_type": "code",
   "execution_count": 174,
   "id": "713e3bef",
   "metadata": {},
   "outputs": [
    {
     "name": "stdout",
     "output_type": "stream",
     "text": [
      "[67.76944794088574, 65.64174963333073, 63.52022410378058, 61.405240361634256, 59.29721646047875, 57.196625136546196, 55.104000232219846, 53.01994401751212, 50.94513553409228, 48.88034009568962, 46.826420082577584, 44.78434716145464, 42.755216037442224, 40.740259789498175, 38.74086673456912, 36.75859857910115, 34.79520930424556, 32.8526637296197, 30.933153926856974, 29.039110518792953, 27.173204357326714, 25.33833226705515, 23.537579170023147, 21.774150017350756, 20.051273420895072, 18.37210425942112, 16.739708413604937, 15.157304318686997, 13.629023679249181, 12.161420879838774, 10.76570493687859, 9.46023586476344, 8.269913215838768, 7.160615092582553, 6.108015267869279, 5.197686733180468, 4.163334251154421, 3.4607995013919064, 2.417095230297758, 2.002024937105374, 0.9777469257547035, 1.682205175065857, 1.0257634083641298, 1.6893618165475794, 1.0314624583093983, 1.6925297844681246, 1.034018731269997, 1.6939181816820876, 1.035252258204148, 1.6946270428526842, 1.0358866298656182, 1.6949982201000802, 1.036194325692858, 1.6951699382561438, 1.036314422018508, 1.6952209984689066, 1.0363296863959448, 1.6952013720008765, 1.036289226655604, 1.6951420778636668, 1.0362207451000538, 1.695061592953507, 1.0361390390781366, 1.694970581832746, 1.036051608817892, 1.6948750884787986, 1.0359620472695135, 1.6947785120994459, 1.0358719510655425, 1.694682762440697, 1.0357819429218895, 1.6945889131200762, 1.0356921961542194, 1.6944975651617364, 1.0356026934861833, 1.6944090486272165, 1.0355133492694393, 1.6943235352229575, 1.0354240637911614, 1.694241102140472, 1.0353347450004033, 1.6941617690158146, 1.035245315312009, 1.6940855198664242, 1.0351557120614605, 1.6940123164596228, 1.0350658856194084, 1.6939421066691813, 1.0349757969440438, 1.6938748298206248, 1.0348854152873799, 1.6938104201752058, 1.0347947162874942, 1.6937488092332658, 1.0347036804726497, 1.693689927272317, 1.034612292125768, 1.6936337043768452, 1.0345205384383702, 1.6935800711297102]\n"
     ]
    }
   ],
   "source": [
    "print(Error)"
   ]
  },
  {
   "cell_type": "code",
   "execution_count": 175,
   "id": "befc0121",
   "metadata": {},
   "outputs": [
    {
     "name": "stdout",
     "output_type": "stream",
     "text": [
      "[[-0.59164416+1.46051733e+01j]\n",
      " [ 3.84188665+4.65537893e+00j]\n",
      " [ 6.84138199+1.09927666e+01j]\n",
      " [ 1.01730397+1.31697268e+00j]\n",
      " [ 9.27406988+2.39467261e-02j]\n",
      " [-1.94402659+1.61569914e+01j]\n",
      " [ 2.63174251+2.29531436e+01j]\n",
      " [-3.67900471+6.37953052e+00j]\n",
      " [ 0.96443703-3.15912600e+00j]\n",
      " [-5.62027568+1.06893332e+01j]\n",
      " [16.44715824+2.12795549e+01j]\n",
      " [25.78314695-1.73038767e-01j]\n",
      " [16.51887963+1.08142202e+01j]\n",
      " [ 5.9661854 -7.13809549e-01j]\n",
      " [-4.89532026+2.39576874e+01j]\n",
      " [12.84695551-4.70517170e-01j]\n",
      " [-1.4526233 +8.59233989e+00j]\n",
      " [11.54742994+1.94481189e+01j]\n",
      " [ 1.66831267+1.10375987e+01j]\n",
      " [-8.27833414-7.09894574e+00j]]\n",
      "[[-0.60542719+14.70141017j]\n",
      " [ 3.8263485  +4.70134807j]\n",
      " [ 6.8153657 +11.17732407j]\n",
      " [ 0.98842966 +1.41225476j]\n",
      " [ 9.26821526 +0.03062849j]\n",
      " [-2.03597555+16.39767493j]\n",
      " [ 2.61408748+22.78193541j]\n",
      " [-3.6743777  +6.38355198j]\n",
      " [ 0.88608673 -3.11237088j]\n",
      " [-5.59194963+10.63358609j]\n",
      " [16.4340552 +21.25703821j]\n",
      " [25.7326034  -0.15859914j]\n",
      " [16.48498709+10.91298639j]\n",
      " [ 5.95189537 -0.76736906j]\n",
      " [-4.79896097+23.56332717j]\n",
      " [12.80876925 -0.37651981j]\n",
      " [-1.4202213  +8.54394849j]\n",
      " [11.55938173+19.5040983j ]\n",
      " [ 1.64587214+11.10278227j]\n",
      " [-7.94509845 -7.31604998j]]\n"
     ]
    }
   ],
   "source": [
    "print(Sref)\n",
    "print(S)"
   ]
  },
  {
   "cell_type": "code",
   "execution_count": 176,
   "id": "e1a0722b",
   "metadata": {},
   "outputs": [
    {
     "data": {
      "text/plain": [
       "[<matplotlib.lines.Line2D at 0x7df67f30cb80>]"
      ]
     },
     "execution_count": 176,
     "metadata": {},
     "output_type": "execute_result"
    },
    {
     "data": {
      "image/png": "[encoded data removed]",
      "text/plain": [
       "<Figure size 640x480 with 1 Axes>"
      ]
     },
     "metadata": {},
     "output_type": "display_data"
    }
   ],
   "source": [
    "plt.plot(Error)"
   ]
  },
  {
   "cell_type": "code",
   "execution_count": 185,
   "id": "e5702e6d",
   "metadata": {},
   "outputs": [
    {
     "name": "stdout",
     "output_type": "stream",
     "text": [
      "[[1.+0.j]\n",
      " [1.+0.j]\n",
      " [1.+0.j]\n",
      " [1.+0.j]\n",
      " [1.+0.j]\n",
      " [1.+0.j]\n",
      " [1.+0.j]\n",
      " [1.+0.j]\n",
      " [1.+0.j]\n",
      " [1.+0.j]\n",
      " [1.+0.j]\n",
      " [1.+0.j]\n",
      " [1.+0.j]\n",
      " [1.+0.j]\n",
      " [1.+0.j]\n",
      " [1.+0.j]\n",
      " [1.+0.j]\n",
      " [1.+0.j]\n",
      " [1.+0.j]\n",
      " [1.+0.j]]\n",
      "[[1.        +0.j        ]\n",
      " [1.02709717+0.03399429j]\n",
      " [0.96667048+0.07611252j]\n",
      " [0.99869099+0.06624394j]\n",
      " [0.96498755+0.06143811j]\n",
      " [0.95022031+0.12063786j]\n",
      " [1.0195172 +0.02643822j]\n",
      " [1.01398686+0.03938589j]\n",
      " [1.04020046+0.01775677j]\n",
      " [0.96086195+0.0709465j ]\n",
      " [1.04084418+0.01846765j]\n",
      " [1.03508382+0.11113149j]\n",
      " [0.98821862+0.17093305j]\n",
      " [1.04212192+0.10465868j]\n",
      " [0.95920807+0.09353849j]\n",
      " [1.03848474+0.00833761j]\n",
      " [0.97963038+0.11637447j]\n",
      " [0.99966464+0.03993995j]\n",
      " [1.03509778+0.06704811j]\n",
      " [0.96770841+0.05091884j]\n",
      " [0.95638499+0.05021942j]]\n"
     ]
    },
    {
     "name": "stderr",
     "output_type": "stream",
     "text": [
      "/tmp/ipykernel_653773/3970079606.py:26: RuntimeWarning: divide by zero encountered in scalar divide\n",
      "  EJJ = 100*np.linalg.norm(Jreal-Jr2)/np.linalg.norm(Jr2)\n"
     ]
    }
   ],
   "source": [
    "#Intial guess #Testing rate of change of Jacobian\n",
    "VR = np.ones((1,N),dtype='complex128')\n",
    "#VR = get_v(10, mag_high, mag_low, angle_high, angle_low)[:,0]\n",
    "VC = np.reshape(VR,(N,1))\n",
    "#VC=V\n",
    "#VR = np.reshape(VC,(1,N))\n",
    "print(VC)\n",
    "print(v)\n",
    "Error = []\n",
    "ErrorJ = []\n",
    "itr = 100\n",
    "Sref = get_S(Ybus,V)\n",
    "Jr2= np.zeros((N,N),dtype=complex)\n",
    "for i in range(itr):\n",
    "    #Jacobian calcuation\n",
    "    S = get_S(Ybus,VC)\n",
    "    error2 = 100*np.linalg.norm(Sref-S)/np.linalg.norm(Sref)\n",
    "    J1 = VR.conj()*Ybus\n",
    "    J2P = np.reshape(Ybus@VC,(N))\n",
    "    J2  = np.diag(J2P)\n",
    "\n",
    "    #power calculation\n",
    "    S = get_S(Ybus,VC)\n",
    "    error1 = np.linalg.norm(Sref-S)\n",
    "    Jreal = J1 +J2\n",
    "    EJJ = 100*np.linalg.norm(Jreal-Jr2)/np.linalg.norm(Jr2)  \n",
    "    ErrorJ.append(EJJ)\n",
    "    Jr2 =Jreal\n",
    "    Jimg = 1j*J1 - 1J*J2\n",
    "    delS = Sref - S\n",
    "    delR = np.real((delS.T)@Jreal)\n",
    "    delI = np.real((delS.T)@Jimg)\n",
    "    delVR = delR/np.linalg.norm(delR)\n",
    "    delVI = delI/np.linalg.norm(delI)\n",
    "    VR = VR+0.005*(delVR+1j*delVI)\n",
    "    VC = np.reshape(VR,(N,1))\n",
    "    S = get_S(Ybus,VC)\n",
    "    Error.append(error2)"
   ]
  },
  {
   "cell_type": "code",
   "execution_count": 187,
   "id": "04f1c82b",
   "metadata": {},
   "outputs": [
    {
     "data": {
      "text/plain": [
       "[<matplotlib.lines.Line2D at 0x7df67ecd5150>]"
      ]
     },
     "execution_count": 187,
     "metadata": {},
     "output_type": "execute_result"
    },
    {
     "data": {
      "image/png": "[encoded data removed]",
      "text/plain": [
       "<Figure size 640x480 with 1 Axes>"
      ]
     },
     "metadata": {},
     "output_type": "display_data"
    }
   ],
   "source": [
    "plt.plot(ErrorJ)"
   ]
  },
  {
   "cell_type": "code",
   "execution_count": null,
   "id": "bdb1beca",
   "metadata": {},
   "outputs": [],
   "source": []
  }
 ],
 "metadata": {
  "kernelspec": {
   "display_name": "Python 3 (ipykernel)",
   "language": "python",
   "name": "python3"
  },
  "language_info": {
   "codemirror_mode": {
    "name": "ipython",
    "version": 3
   },
   "file_extension": ".py",
   "mimetype": "text/x-python",
   "name": "python",
   "nbconvert_exporter": "python",
   "pygments_lexer": "ipython3",
   "version": "3.10.12"
  }
 },
 "nbformat": 4,
 "nbformat_minor": 5
}
