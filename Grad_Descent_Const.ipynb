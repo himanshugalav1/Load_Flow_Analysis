{
 "cells": [
  {
   "cell_type": "markdown",
   "id": "f7379a2a",
   "metadata": {},
   "source": [
    "# Gradient Descent Constant step size"
   ]
  },
  {
   "cell_type": "code",
   "execution_count": 3,
   "id": "b26ee875",
   "metadata": {},
   "outputs": [],
   "source": [
    "import numpy as np\n",
    "import matplotlib.pyplot as plt"
   ]
  },
  {
   "cell_type": "code",
   "execution_count": 4,
   "id": "5bfe21e8",
   "metadata": {},
   "outputs": [],
   "source": [
    "#Defining function to generate Ybus, a voltage distribution for test bench and power crossponding to it \n",
    "#Generating Y buses and a test bench\n",
    "def get_y(n, avg_conn, min_y, max_y):\n",
    "    y_mat = np.zeros((n, n), dtype='complex128')\n",
    "    for i in range(n):\n",
    "        num_connections = min(np.random.poisson(avg_conn), n-1)\n",
    "        connected_buses = np.random.choice([j for j in range(n) if j != i], size=num_connections, replace=False)\n",
    "\n",
    "        y_mat[i, connected_buses] = (\n",
    "            np.random.uniform(min_y, max_y, size=num_connections) -\n",
    "            1j * np.random.uniform(min_y, max_y, size=num_connections)*2\n",
    "        )\n",
    "    y_mat = (y_mat + y_mat.T) / 2\n",
    "    \n",
    "    yy_mat = np.zeros((n, n), dtype='complex128')\n",
    "    for i in range(n):\n",
    "        for j in range(n):\n",
    "            yy_mat[i][i] += y_mat[i][j]\n",
    "            if(i!=j): yy_mat[i][j] = 0-y_mat[i][j]\n",
    "\n",
    "    return yy_mat\n",
    "\n",
    "\n",
    "def get_v(n, mag_high, mag_low, angle_high, angle_low):\n",
    "    mag = np.random.rand(n, 1) * (mag_high - mag_low) + mag_low\n",
    "    angles = np.random.rand(n, 1) * (angle_high - angle_low) + angle_low\n",
    "    angles = np.deg2rad(angles)\n",
    "    v = mag * np.exp(1j * angles)\n",
    "    return v\n",
    "\n",
    "def get_S(y, vr):\n",
    "    S = vr*(np.conj(y)@np.conj(vr))\n",
    "    \n",
    "    return S"
   ]
  },
  {
   "cell_type": "code",
   "execution_count": 5,
   "id": "7599fef9",
   "metadata": {},
   "outputs": [],
   "source": [
    "#Intializing the System with fixed number of buses and intial voltage distributation\n",
    "N=20\n",
    "\n",
    "n = N+1 #Total number of buses\n",
    "avg_conn = 10 #Average connection\n",
    "min_y, max_y = 5, 10\n",
    "mag_high, mag_low = 1.05, 0.95\n",
    "angle_high, angle_low = 10, 0\n",
    "\n",
    "\n",
    "y = get_y(n, avg_conn, min_y, max_y) #Generating Y bus\n",
    "Ybus = y[1:,1:] #Excluding Reference bus\n",
    "\n",
    "v = get_v(n, mag_high, mag_low, angle_high, angle_low) #Intial voltage distribution\n",
    "v[0] = 1 #Setting Reference bus\n",
    "V = v[1:]\n",
    "\n",
    "s = get_S(y, v) #Power corrosponding to intial distribution "
   ]
  },
  {
   "cell_type": "code",
   "execution_count": 13,
   "id": "5e331977",
   "metadata": {},
   "outputs": [],
   "source": [
    "#Intial guess\n",
    "VR = np.ones((1,N),dtype='complex128') #Voltage Row vector\n",
    "VC = np.reshape(VR,(N,1)) #Voltage column vector\n",
    "Sref = get_S(Ybus,V) #Reference Power or Schadule power\n",
    "\n",
    "ss = 0.01 #Step size\n",
    "itr = 30 #Number of iteration\n",
    "Error = [] #Error per iteration\n",
    "\n",
    "\n",
    "\n",
    "\n",
    "for i in range(itr):\n",
    "\n",
    "    J1 = VR.conj()*Ybus #Jacabian crossponding to voltage conjuctate\n",
    "    J2P = np.reshape(Ybus@VC,(N))\n",
    "    J2  = np.diag(J2P) #Jacabian croosponding to voltage \n",
    "\n",
    "    #power calculation\n",
    "    Jreal = J1 +J2 #Real voltage Jacobian\n",
    "    Jimg = 1j*J1 - 1J*J2 #Imag voltage jacobian\n",
    "    S = get_S(Ybus,VC)    \n",
    "    delS = Sref - S #Power correction\n",
    "    \n",
    "    delR = np.real((delS.T)@Jreal) #Gradient real part of voltage\n",
    "    delI = np.real((delS.T)@Jimg) #Gradient img part of voltage\n",
    "    \n",
    "    delVR = delR/np.linalg.norm(delR) # Increment Real voltage(*)\n",
    "    delVI = delI/np.linalg.norm(delI) #Increment imag voltage\n",
    "    \n",
    "    VR = VR+ss*(delVR+1j*delVI) #Change voltage\n",
    "    VC = np.reshape(VR,(N,1))\n",
    "    \n",
    "    S = get_S(Ybus,VC) #Power crossponding to new voltage\n",
    "    error2 = 100*np.linalg.norm(Sref-S)/np.linalg.norm(Sref) #Error in Power\n",
    "    Error.append(error2)"
   ]
  },
  {
   "cell_type": "code",
   "execution_count": 14,
   "id": "91bf7d3c",
   "metadata": {},
   "outputs": [
    {
     "data": {
      "text/plain": [
       "[<matplotlib.lines.Line2D at 0x7067d7285d50>]"
      ]
     },
     "execution_count": 14,
     "metadata": {},
     "output_type": "execute_result"
    },
    {
     "data": {
      "image/png": "[encoded data removed]",
      "text/plain": [
       "<Figure size 640x480 with 1 Axes>"
      ]
     },
     "metadata": {},
     "output_type": "display_data"
    }
   ],
   "source": [
    "plt.plot(Error)"
   ]
  },
  {
   "cell_type": "code",
   "execution_count": null,
   "id": "2ffbe053",
   "metadata": {},
   "outputs": [],
   "source": []
  }
 ],
 "metadata": {
  "kernelspec": {
   "display_name": "Python 3 (ipykernel)",
   "language": "python",
   "name": "python3"
  },
  "language_info": {
   "codemirror_mode": {
    "name": "ipython",
    "version": 3
   },
   "file_extension": ".py",
   "mimetype": "text/x-python",
   "name": "python",
   "nbconvert_exporter": "python",
   "pygments_lexer": "ipython3",
   "version": "3.10.12"
  }
 },
 "nbformat": 4,
 "nbformat_minor": 5
}
